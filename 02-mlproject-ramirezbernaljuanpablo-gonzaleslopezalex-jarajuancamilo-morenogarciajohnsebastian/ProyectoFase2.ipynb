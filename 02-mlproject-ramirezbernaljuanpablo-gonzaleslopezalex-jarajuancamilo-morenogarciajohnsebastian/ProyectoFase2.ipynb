{
 "cells": [
  {
   "cell_type": "markdown",
   "id": "e4078833",
   "metadata": {},
   "source": [
    "# Proyecto NETFLIX\n",
    "-------------------\n",
    "## Fase 2\n",
    "-------------------\n",
    "\n",
    "### Integrantes: Juan Pablo Ramírez Bernal, Alexi Lopez Gónzalez, Juan Camilo Jara Burgos, John Sebastian García Moreno  "
   ]
  },
  {
   "cell_type": "markdown",
   "id": "7b0611df",
   "metadata": {},
   "source": [
    "Primero se debe cargar el entorno de trabajo. "
   ]
  },
  {
   "cell_type": "code",
   "execution_count": 1,
   "id": "ad2f91b7",
   "metadata": {},
   "outputs": [
    {
     "name": "stdout",
     "output_type": "stream",
     "text": [
      "---------------------------------------------\n",
      "Las configuraciones inicales se han cargado\n",
      "---------------------------------------------\n"
     ]
    }
   ],
   "source": [
    "#se importan los datos de pandas\n",
    "#es usado para cargar el entorno de trabajo\n",
    "import pandas as pd\n",
    "from textblob import TextBlob\n",
    "pd.plotting.register_matplotlib_converters()\n",
    "import matplotlib.pyplot as plt\n",
    "%matplotlib inline\n",
    "import seaborn as sns\n",
    "import matplotlib.pyplot as plt\n",
    "print(\"---------------------------------------------\")\n",
    "print(\"Las configuraciones inicales se han cargado\")\n",
    "print(\"---------------------------------------------\")"
   ]
  },
  {
   "cell_type": "markdown",
   "id": "1e6e6f54",
   "metadata": {},
   "source": [
    "Luego, se debe ubicar la ruta del archivo.\n"
   ]
  },
  {
   "cell_type": "code",
   "execution_count": 2,
   "id": "ae838ed7",
   "metadata": {},
   "outputs": [
    {
     "name": "stdout",
     "output_type": "stream",
     "text": [
      "-----------------------\n",
      "Se encontro el archivo\n",
      "-----------------------\n"
     ]
    }
   ],
   "source": [
    "#Ubicar los datos, su ruta \n",
    "netflix_filepath=\"../NOTEBOOKS/netflix_titles.csv\"\n",
    "print(\"-----------------------\")\n",
    "print(\"Se encontro el archivo\")\n",
    "print(\"-----------------------\")"
   ]
  },
  {
   "cell_type": "markdown",
   "id": "fceaa77c",
   "metadata": {},
   "source": [
    "# Pre procesamiento de los datos"
   ]
  },
  {
   "cell_type": "markdown",
   "id": "1cd35567",
   "metadata": {},
   "source": [
    "Ahora realizamos una de las operaciones más importantes, el preprocesamiento, donde arreglaremos y estableceremos un buen formateo de nuestros datos."
   ]
  },
  {
   "cell_type": "markdown",
   "id": "7f12daff",
   "metadata": {},
   "source": [
    "Se procede entonces a cargar los datos."
   ]
  },
  {
   "cell_type": "code",
   "execution_count": 3,
   "id": "36622dca",
   "metadata": {},
   "outputs": [
    {
     "data": {
      "text/plain": [
       "(7787, 12)"
      ]
     },
     "execution_count": 3,
     "metadata": {},
     "output_type": "execute_result"
    }
   ],
   "source": [
    "#Cargar y leer los datos \n",
    "nf=pd.read_csv(netflix_filepath)\n",
    "#saber el tamaño de los datos\n",
    "nf.shape"
   ]
  },
  {
   "cell_type": "markdown",
   "id": "8bc5641f",
   "metadata": {},
   "source": [
    "Para verificar que los datos estén bien formateados."
   ]
  },
  {
   "cell_type": "code",
   "execution_count": 4,
   "id": "fcaa2ff7",
   "metadata": {},
   "outputs": [
    {
     "data": {
      "text/html": [
       "<div>\n",
       "<style scoped>\n",
       "    .dataframe tbody tr th:only-of-type {\n",
       "        vertical-align: middle;\n",
       "    }\n",
       "\n",
       "    .dataframe tbody tr th {\n",
       "        vertical-align: top;\n",
       "    }\n",
       "\n",
       "    .dataframe thead th {\n",
       "        text-align: right;\n",
       "    }\n",
       "</style>\n",
       "<table border=\"1\" class=\"dataframe\">\n",
       "  <thead>\n",
       "    <tr style=\"text-align: right;\">\n",
       "      <th></th>\n",
       "      <th>show_id</th>\n",
       "      <th>type</th>\n",
       "      <th>title</th>\n",
       "      <th>director</th>\n",
       "      <th>cast</th>\n",
       "      <th>country</th>\n",
       "      <th>date_added</th>\n",
       "      <th>release_year</th>\n",
       "      <th>rating</th>\n",
       "      <th>duration</th>\n",
       "      <th>listed_in</th>\n",
       "      <th>description</th>\n",
       "    </tr>\n",
       "  </thead>\n",
       "  <tbody>\n",
       "    <tr>\n",
       "      <th>0</th>\n",
       "      <td>s1</td>\n",
       "      <td>TV Show</td>\n",
       "      <td>3%</td>\n",
       "      <td>NaN</td>\n",
       "      <td>João Miguel, Bianca Comparato, Michel Gomes, R...</td>\n",
       "      <td>Brazil</td>\n",
       "      <td>August 14, 2020</td>\n",
       "      <td>2020</td>\n",
       "      <td>TV-MA</td>\n",
       "      <td>4 Seasons</td>\n",
       "      <td>Dramas</td>\n",
       "      <td>In a future where the elite inhabit an island ...</td>\n",
       "    </tr>\n",
       "    <tr>\n",
       "      <th>1</th>\n",
       "      <td>s2</td>\n",
       "      <td>Movie</td>\n",
       "      <td>7:19</td>\n",
       "      <td>Jorge Michel Grau</td>\n",
       "      <td>Demián Bichir, Héctor Bonilla, Oscar Serrano, ...</td>\n",
       "      <td>Mexico</td>\n",
       "      <td>December 23, 2016</td>\n",
       "      <td>2016</td>\n",
       "      <td>TV-MA</td>\n",
       "      <td>93 min</td>\n",
       "      <td>Dramas</td>\n",
       "      <td>After a devastating earthquake hits Mexico Cit...</td>\n",
       "    </tr>\n",
       "    <tr>\n",
       "      <th>2</th>\n",
       "      <td>s3</td>\n",
       "      <td>Movie</td>\n",
       "      <td>23:59</td>\n",
       "      <td>Gilbert Chan</td>\n",
       "      <td>Tedd Chan, Stella Chung, Henley Hii, Lawrence ...</td>\n",
       "      <td>Singapore</td>\n",
       "      <td>December 20, 2018</td>\n",
       "      <td>2011</td>\n",
       "      <td>R</td>\n",
       "      <td>78 min</td>\n",
       "      <td>Horror</td>\n",
       "      <td>When an army recruit is found dead, his fellow...</td>\n",
       "    </tr>\n",
       "    <tr>\n",
       "      <th>3</th>\n",
       "      <td>s4</td>\n",
       "      <td>Movie</td>\n",
       "      <td>9</td>\n",
       "      <td>Shane Acker</td>\n",
       "      <td>Elijah Wood, John C. Reilly, Jennifer Connelly...</td>\n",
       "      <td>United States</td>\n",
       "      <td>November 16, 2017</td>\n",
       "      <td>2009</td>\n",
       "      <td>PG-13</td>\n",
       "      <td>80 min</td>\n",
       "      <td>Action &amp; Adventure</td>\n",
       "      <td>In a postapocalyptic world, rag-doll robots hi...</td>\n",
       "    </tr>\n",
       "    <tr>\n",
       "      <th>4</th>\n",
       "      <td>s5</td>\n",
       "      <td>Movie</td>\n",
       "      <td>21</td>\n",
       "      <td>Robert Luketic</td>\n",
       "      <td>Jim Sturgess, Kevin Spacey, Kate Bosworth, Aar...</td>\n",
       "      <td>United States</td>\n",
       "      <td>January 1, 2020</td>\n",
       "      <td>2008</td>\n",
       "      <td>PG-13</td>\n",
       "      <td>123 min</td>\n",
       "      <td>Dramas</td>\n",
       "      <td>A brilliant group of students become card-coun...</td>\n",
       "    </tr>\n",
       "  </tbody>\n",
       "</table>\n",
       "</div>"
      ],
      "text/plain": [
       "  show_id     type  title           director  \\\n",
       "0      s1  TV Show     3%                NaN   \n",
       "1      s2    Movie   7:19  Jorge Michel Grau   \n",
       "2      s3    Movie  23:59       Gilbert Chan   \n",
       "3      s4    Movie      9        Shane Acker   \n",
       "4      s5    Movie     21     Robert Luketic   \n",
       "\n",
       "                                                cast        country  \\\n",
       "0  João Miguel, Bianca Comparato, Michel Gomes, R...         Brazil   \n",
       "1  Demián Bichir, Héctor Bonilla, Oscar Serrano, ...         Mexico   \n",
       "2  Tedd Chan, Stella Chung, Henley Hii, Lawrence ...      Singapore   \n",
       "3  Elijah Wood, John C. Reilly, Jennifer Connelly...  United States   \n",
       "4  Jim Sturgess, Kevin Spacey, Kate Bosworth, Aar...  United States   \n",
       "\n",
       "          date_added  release_year rating   duration           listed_in  \\\n",
       "0    August 14, 2020          2020  TV-MA  4 Seasons              Dramas   \n",
       "1  December 23, 2016          2016  TV-MA     93 min              Dramas   \n",
       "2  December 20, 2018          2011      R     78 min              Horror   \n",
       "3  November 16, 2017          2009  PG-13     80 min  Action & Adventure   \n",
       "4    January 1, 2020          2008  PG-13    123 min              Dramas   \n",
       "\n",
       "                                         description  \n",
       "0  In a future where the elite inhabit an island ...  \n",
       "1  After a devastating earthquake hits Mexico Cit...  \n",
       "2  When an army recruit is found dead, his fellow...  \n",
       "3  In a postapocalyptic world, rag-doll robots hi...  \n",
       "4  A brilliant group of students become card-coun...  "
      ]
     },
     "execution_count": 4,
     "metadata": {},
     "output_type": "execute_result"
    }
   ],
   "source": [
    "# Verificar que los datos esten bien formateados\n",
    "nf.head()"
   ]
  },
  {
   "cell_type": "markdown",
   "id": "b3e27e6b",
   "metadata": {},
   "source": [
    "Verificamos que valores se han repetido."
   ]
  },
  {
   "cell_type": "code",
   "execution_count": 5,
   "id": "3ff1562b",
   "metadata": {},
   "outputs": [
    {
     "data": {
      "text/plain": [
       "0"
      ]
     },
     "execution_count": 5,
     "metadata": {},
     "output_type": "execute_result"
    }
   ],
   "source": [
    "#Verfica valores repetidos\n",
    "nf.duplicated().sum()"
   ]
  },
  {
   "cell_type": "markdown",
   "id": "f28b1586",
   "metadata": {},
   "source": [
    "Verificar que las categorías sean únicas y no estén dispersas en sub categorías"
   ]
  },
  {
   "cell_type": "code",
   "execution_count": 6,
   "id": "582cf34b",
   "metadata": {},
   "outputs": [
    {
     "data": {
      "text/plain": [
       "array(['Dramas', 'Horror', 'Action & Adventure', 'Documentary', 'Sci-Fi',\n",
       "       'Comedy', 'Fantasy', 'Reality show', 'Romantic', 'Musical'],\n",
       "      dtype=object)"
      ]
     },
     "execution_count": 6,
     "metadata": {},
     "output_type": "execute_result"
    }
   ],
   "source": [
    "nf.listed_in.unique()"
   ]
  },
  {
   "cell_type": "code",
   "execution_count": 7,
   "id": "7110c422",
   "metadata": {},
   "outputs": [
    {
     "data": {
      "text/plain": [
       "count       7787\n",
       "unique        10\n",
       "top       Dramas\n",
       "freq        2582\n",
       "Name: listed_in, dtype: object"
      ]
     },
     "execution_count": 7,
     "metadata": {},
     "output_type": "execute_result"
    }
   ],
   "source": [
    "nf.listed_in.describe()"
   ]
  },
  {
   "cell_type": "markdown",
   "id": "1359c6f2",
   "metadata": {},
   "source": [
    "Se observa que en la columna 4, primera fila hay un dato NaN o mejor conocido como (Not a Number), esto nos indica la falta de un valor asignado, ¿En cuantas columnas pasa esto?"
   ]
  },
  {
   "cell_type": "code",
   "execution_count": 8,
   "id": "361f9b18",
   "metadata": {},
   "outputs": [
    {
     "name": "stdout",
     "output_type": "stream",
     "text": [
      "Porcentaje de valores faltantes en cada columna\n"
     ]
    },
    {
     "data": {
      "text/plain": [
       "director      30.679337\n",
       "cast           9.220496\n",
       "country        6.510851\n",
       "date_added     0.128419\n",
       "rating         0.089893\n",
       "dtype: float64"
      ]
     },
     "execution_count": 8,
     "metadata": {},
     "output_type": "execute_result"
    }
   ],
   "source": [
    "print(\"Porcentaje de valores faltantes en cada columna\")\n",
    "#sacar el porcentaje de datos faltantes\n",
    "p_v_f=nf.isna().sum()/len(nf)*100\n",
    "p_v_f[p_v_f!=0]"
   ]
  },
  {
   "cell_type": "markdown",
   "id": "10295ff6",
   "metadata": {},
   "source": [
    "En nuestro conjunto de datos, hay valores que no se utilizaran pues no son relevantes estos son, así que desechémoslos."
   ]
  },
  {
   "cell_type": "code",
   "execution_count": 9,
   "id": "f24f0ae9",
   "metadata": {},
   "outputs": [],
   "source": [
    "#Tomar el dato no relevante y sacarlo\n",
    "nf.drop(\"show_id\",axis=1,inplace=True)\n",
    "nf.drop(\"cast\",axis=1,inplace=True)\n",
    "nf.drop(\"title\",axis=1,inplace=True)\n",
    "nf.drop(\"director\",axis=1,inplace=True)\n",
    "nf.drop(\"release_year\",axis=1,inplace=True)\n",
    "nf.drop(\"duration\",axis=1,inplace=True)"
   ]
  },
  {
   "cell_type": "markdown",
   "id": "102991ab",
   "metadata": {},
   "source": [
    "Llenar los valores faltantes "
   ]
  },
  {
   "cell_type": "code",
   "execution_count": 10,
   "id": "6c31307a",
   "metadata": {},
   "outputs": [],
   "source": [
    "#Para los datos de país y rating\n",
    "nf[\"country\"]=nf[\"country\"].fillna(nf[\"country\"].mode()[0])\n",
    "nf[\"rating\"]=nf[\"rating\"].fillna(nf[\"rating\"].mode()[0])"
   ]
  },
  {
   "cell_type": "markdown",
   "id": "8d1a5d0a",
   "metadata": {},
   "source": [
    "Tenemos datos que no poseen valor en **data_added**, así que lo que realizaremos será encontrar los datos faltantes y sacarlos, ya que el intentar llenar este dato nos enredara más el trabajo."
   ]
  },
  {
   "cell_type": "code",
   "execution_count": 11,
   "id": "d9728e37",
   "metadata": {},
   "outputs": [
    {
     "name": "stdout",
     "output_type": "stream",
     "text": [
      "************************************\n",
      "Datos Faltantes en **date_added**\n",
      "************************************\n"
     ]
    },
    {
     "data": {
      "text/html": [
       "<div>\n",
       "<style scoped>\n",
       "    .dataframe tbody tr th:only-of-type {\n",
       "        vertical-align: middle;\n",
       "    }\n",
       "\n",
       "    .dataframe tbody tr th {\n",
       "        vertical-align: top;\n",
       "    }\n",
       "\n",
       "    .dataframe thead th {\n",
       "        text-align: right;\n",
       "    }\n",
       "</style>\n",
       "<table border=\"1\" class=\"dataframe\">\n",
       "  <thead>\n",
       "    <tr style=\"text-align: right;\">\n",
       "      <th></th>\n",
       "      <th>type</th>\n",
       "      <th>country</th>\n",
       "      <th>date_added</th>\n",
       "      <th>rating</th>\n",
       "      <th>listed_in</th>\n",
       "      <th>description</th>\n",
       "    </tr>\n",
       "  </thead>\n",
       "  <tbody>\n",
       "    <tr>\n",
       "      <th>258</th>\n",
       "      <td>TV Show</td>\n",
       "      <td>United Kingdom</td>\n",
       "      <td>NaN</td>\n",
       "      <td>TV-MA</td>\n",
       "      <td>Dramas</td>\n",
       "      <td>Set during the Russian Revolution, this comic ...</td>\n",
       "    </tr>\n",
       "    <tr>\n",
       "      <th>549</th>\n",
       "      <td>TV Show</td>\n",
       "      <td>United States</td>\n",
       "      <td>NaN</td>\n",
       "      <td>TV-PG</td>\n",
       "      <td>Documentary</td>\n",
       "      <td>This CNN original series has chef Anthony Bour...</td>\n",
       "    </tr>\n",
       "    <tr>\n",
       "      <th>2263</th>\n",
       "      <td>TV Show</td>\n",
       "      <td>United States</td>\n",
       "      <td>NaN</td>\n",
       "      <td>TV-PG</td>\n",
       "      <td>Comedy</td>\n",
       "      <td>Frasier Crane is a snooty but lovable Seattle ...</td>\n",
       "    </tr>\n",
       "    <tr>\n",
       "      <th>2288</th>\n",
       "      <td>TV Show</td>\n",
       "      <td>United States</td>\n",
       "      <td>NaN</td>\n",
       "      <td>TV-14</td>\n",
       "      <td>Comedy</td>\n",
       "      <td>This hit sitcom follows the merry misadventure...</td>\n",
       "    </tr>\n",
       "    <tr>\n",
       "      <th>2555</th>\n",
       "      <td>TV Show</td>\n",
       "      <td>Japan</td>\n",
       "      <td>NaN</td>\n",
       "      <td>TV-14</td>\n",
       "      <td>Fantasy</td>\n",
       "      <td>On the surface, the Social Welfare Agency appe...</td>\n",
       "    </tr>\n",
       "    <tr>\n",
       "      <th>3374</th>\n",
       "      <td>TV Show</td>\n",
       "      <td>United States</td>\n",
       "      <td>NaN</td>\n",
       "      <td>TV-Y</td>\n",
       "      <td>Fantasy</td>\n",
       "      <td>A wacky rabbit and his gang of animal pals hav...</td>\n",
       "    </tr>\n",
       "    <tr>\n",
       "      <th>3492</th>\n",
       "      <td>TV Show</td>\n",
       "      <td>United States</td>\n",
       "      <td>NaN</td>\n",
       "      <td>TV-14</td>\n",
       "      <td>Dramas</td>\n",
       "      <td>This irreverent sitcom featues Ludovico, Feder...</td>\n",
       "    </tr>\n",
       "    <tr>\n",
       "      <th>3946</th>\n",
       "      <td>TV Show</td>\n",
       "      <td>United States</td>\n",
       "      <td>NaN</td>\n",
       "      <td>TV-MA</td>\n",
       "      <td>Comedy</td>\n",
       "      <td>Marc Maron stars as Marc Maron, who interviews...</td>\n",
       "    </tr>\n",
       "    <tr>\n",
       "      <th>5137</th>\n",
       "      <td>TV Show</td>\n",
       "      <td>United States</td>\n",
       "      <td>NaN</td>\n",
       "      <td>NR</td>\n",
       "      <td>Action &amp; Adventure</td>\n",
       "      <td>This parody of first-person shooter games, mil...</td>\n",
       "    </tr>\n",
       "    <tr>\n",
       "      <th>6065</th>\n",
       "      <td>TV Show</td>\n",
       "      <td>Australia</td>\n",
       "      <td>NaN</td>\n",
       "      <td>TV-Y7</td>\n",
       "      <td>Fantasy</td>\n",
       "      <td>Imagine your worst fears, then multiply them: ...</td>\n",
       "    </tr>\n",
       "  </tbody>\n",
       "</table>\n",
       "</div>"
      ],
      "text/plain": [
       "         type         country date_added rating           listed_in  \\\n",
       "258   TV Show  United Kingdom        NaN  TV-MA              Dramas   \n",
       "549   TV Show   United States        NaN  TV-PG         Documentary   \n",
       "2263  TV Show   United States        NaN  TV-PG              Comedy   \n",
       "2288  TV Show   United States        NaN  TV-14              Comedy   \n",
       "2555  TV Show           Japan        NaN  TV-14             Fantasy   \n",
       "3374  TV Show   United States        NaN   TV-Y             Fantasy   \n",
       "3492  TV Show   United States        NaN  TV-14              Dramas   \n",
       "3946  TV Show   United States        NaN  TV-MA              Comedy   \n",
       "5137  TV Show   United States        NaN     NR  Action & Adventure   \n",
       "6065  TV Show       Australia        NaN  TV-Y7             Fantasy   \n",
       "\n",
       "                                            description  \n",
       "258   Set during the Russian Revolution, this comic ...  \n",
       "549   This CNN original series has chef Anthony Bour...  \n",
       "2263  Frasier Crane is a snooty but lovable Seattle ...  \n",
       "2288  This hit sitcom follows the merry misadventure...  \n",
       "2555  On the surface, the Social Welfare Agency appe...  \n",
       "3374  A wacky rabbit and his gang of animal pals hav...  \n",
       "3492  This irreverent sitcom featues Ludovico, Feder...  \n",
       "3946  Marc Maron stars as Marc Maron, who interviews...  \n",
       "5137  This parody of first-person shooter games, mil...  \n",
       "6065  Imagine your worst fears, then multiply them: ...  "
      ]
     },
     "execution_count": 11,
     "metadata": {},
     "output_type": "execute_result"
    }
   ],
   "source": [
    "print('************************************')\n",
    "print(\"Datos Faltantes en **date_added**\")\n",
    "print('************************************')\n",
    "#llenar los datos faltantes y ubicarlos\n",
    "nf[nf.date_added.isna()]"
   ]
  },
  {
   "cell_type": "code",
   "execution_count": 12,
   "id": "2d863442",
   "metadata": {},
   "outputs": [],
   "source": [
    "#Sacar los datos de esas filas \n",
    "nf=nf[nf[\"date_added\"].notna()]"
   ]
  },
  {
   "cell_type": "markdown",
   "id": "bc1e028a",
   "metadata": {},
   "source": [
    "Comprobemos que tal se ven nuestros datos ahora"
   ]
  },
  {
   "cell_type": "code",
   "execution_count": 13,
   "id": "66e4c7ef",
   "metadata": {},
   "outputs": [
    {
     "data": {
      "text/plain": [
       "type           0\n",
       "country        0\n",
       "date_added     0\n",
       "rating         0\n",
       "listed_in      0\n",
       "description    0\n",
       "dtype: int64"
      ]
     },
     "execution_count": 13,
     "metadata": {},
     "output_type": "execute_result"
    }
   ],
   "source": [
    "#Con esto verificamos que datos son los faltantes y que me los sume\n",
    "nf.isna().sum()"
   ]
  },
  {
   "cell_type": "markdown",
   "id": "6bd6e984",
   "metadata": {},
   "source": [
    "Luego lo que haremos será tomar los datos de rating y convertirlos a su público objetivo o sea, TV_PG= grown kids."
   ]
  },
  {
   "cell_type": "code",
   "execution_count": 14,
   "id": "c1471af6",
   "metadata": {},
   "outputs": [
    {
     "data": {
      "text/html": [
       "<div>\n",
       "<style scoped>\n",
       "    .dataframe tbody tr th:only-of-type {\n",
       "        vertical-align: middle;\n",
       "    }\n",
       "\n",
       "    .dataframe tbody tr th {\n",
       "        vertical-align: top;\n",
       "    }\n",
       "\n",
       "    .dataframe thead th {\n",
       "        text-align: right;\n",
       "    }\n",
       "</style>\n",
       "<table border=\"1\" class=\"dataframe\">\n",
       "  <thead>\n",
       "    <tr style=\"text-align: right;\">\n",
       "      <th></th>\n",
       "      <th>type</th>\n",
       "      <th>country</th>\n",
       "      <th>date_added</th>\n",
       "      <th>rating</th>\n",
       "      <th>listed_in</th>\n",
       "      <th>description</th>\n",
       "      <th>obj_ages</th>\n",
       "    </tr>\n",
       "  </thead>\n",
       "  <tbody>\n",
       "    <tr>\n",
       "      <th>0</th>\n",
       "      <td>TV Show</td>\n",
       "      <td>Brazil</td>\n",
       "      <td>August 14, 2020</td>\n",
       "      <td>TV-MA</td>\n",
       "      <td>Dramas</td>\n",
       "      <td>In a future where the elite inhabit an island ...</td>\n",
       "      <td>Adults</td>\n",
       "    </tr>\n",
       "    <tr>\n",
       "      <th>1</th>\n",
       "      <td>Movie</td>\n",
       "      <td>Mexico</td>\n",
       "      <td>December 23, 2016</td>\n",
       "      <td>TV-MA</td>\n",
       "      <td>Dramas</td>\n",
       "      <td>After a devastating earthquake hits Mexico Cit...</td>\n",
       "      <td>Adults</td>\n",
       "    </tr>\n",
       "    <tr>\n",
       "      <th>2</th>\n",
       "      <td>Movie</td>\n",
       "      <td>Singapore</td>\n",
       "      <td>December 20, 2018</td>\n",
       "      <td>R</td>\n",
       "      <td>Horror</td>\n",
       "      <td>When an army recruit is found dead, his fellow...</td>\n",
       "      <td>Adults</td>\n",
       "    </tr>\n",
       "    <tr>\n",
       "      <th>3</th>\n",
       "      <td>Movie</td>\n",
       "      <td>United States</td>\n",
       "      <td>November 16, 2017</td>\n",
       "      <td>PG-13</td>\n",
       "      <td>Action &amp; Adventure</td>\n",
       "      <td>In a postapocalyptic world, rag-doll robots hi...</td>\n",
       "      <td>Teens</td>\n",
       "    </tr>\n",
       "    <tr>\n",
       "      <th>4</th>\n",
       "      <td>Movie</td>\n",
       "      <td>United States</td>\n",
       "      <td>January 1, 2020</td>\n",
       "      <td>PG-13</td>\n",
       "      <td>Dramas</td>\n",
       "      <td>A brilliant group of students become card-coun...</td>\n",
       "      <td>Teens</td>\n",
       "    </tr>\n",
       "    <tr>\n",
       "      <th>...</th>\n",
       "      <td>...</td>\n",
       "      <td>...</td>\n",
       "      <td>...</td>\n",
       "      <td>...</td>\n",
       "      <td>...</td>\n",
       "      <td>...</td>\n",
       "      <td>...</td>\n",
       "    </tr>\n",
       "    <tr>\n",
       "      <th>7782</th>\n",
       "      <td>Movie</td>\n",
       "      <td>Sweden, Czech Republic, United Kingdom, Denmar...</td>\n",
       "      <td>October 19, 2020</td>\n",
       "      <td>TV-MA</td>\n",
       "      <td>Dramas</td>\n",
       "      <td>When Lebanon's Civil War deprives Zozo of his ...</td>\n",
       "      <td>Adults</td>\n",
       "    </tr>\n",
       "    <tr>\n",
       "      <th>7783</th>\n",
       "      <td>Movie</td>\n",
       "      <td>India</td>\n",
       "      <td>March 2, 2019</td>\n",
       "      <td>TV-14</td>\n",
       "      <td>Dramas</td>\n",
       "      <td>A scrappy but poor boy worms his way into a ty...</td>\n",
       "      <td>Teens</td>\n",
       "    </tr>\n",
       "    <tr>\n",
       "      <th>7784</th>\n",
       "      <td>Movie</td>\n",
       "      <td>United States</td>\n",
       "      <td>September 25, 2020</td>\n",
       "      <td>TV-MA</td>\n",
       "      <td>Documentary</td>\n",
       "      <td>In this documentary, South African rapper Nast...</td>\n",
       "      <td>Adults</td>\n",
       "    </tr>\n",
       "    <tr>\n",
       "      <th>7785</th>\n",
       "      <td>TV Show</td>\n",
       "      <td>Australia</td>\n",
       "      <td>October 31, 2020</td>\n",
       "      <td>TV-PG</td>\n",
       "      <td>Reality show</td>\n",
       "      <td>Dessert wizard Adriano Zumbo looks for the nex...</td>\n",
       "      <td>Grown Kids</td>\n",
       "    </tr>\n",
       "    <tr>\n",
       "      <th>7786</th>\n",
       "      <td>Movie</td>\n",
       "      <td>United Kingdom, Canada, United States</td>\n",
       "      <td>March 1, 2020</td>\n",
       "      <td>TV-MA</td>\n",
       "      <td>Documentary</td>\n",
       "      <td>This documentary delves into the mystique behi...</td>\n",
       "      <td>Adults</td>\n",
       "    </tr>\n",
       "  </tbody>\n",
       "</table>\n",
       "<p>7777 rows × 7 columns</p>\n",
       "</div>"
      ],
      "text/plain": [
       "         type                                            country  \\\n",
       "0     TV Show                                             Brazil   \n",
       "1       Movie                                             Mexico   \n",
       "2       Movie                                          Singapore   \n",
       "3       Movie                                      United States   \n",
       "4       Movie                                      United States   \n",
       "...       ...                                                ...   \n",
       "7782    Movie  Sweden, Czech Republic, United Kingdom, Denmar...   \n",
       "7783    Movie                                              India   \n",
       "7784    Movie                                      United States   \n",
       "7785  TV Show                                          Australia   \n",
       "7786    Movie              United Kingdom, Canada, United States   \n",
       "\n",
       "              date_added rating           listed_in  \\\n",
       "0        August 14, 2020  TV-MA              Dramas   \n",
       "1      December 23, 2016  TV-MA              Dramas   \n",
       "2      December 20, 2018      R              Horror   \n",
       "3      November 16, 2017  PG-13  Action & Adventure   \n",
       "4        January 1, 2020  PG-13              Dramas   \n",
       "...                  ...    ...                 ...   \n",
       "7782    October 19, 2020  TV-MA              Dramas   \n",
       "7783       March 2, 2019  TV-14              Dramas   \n",
       "7784  September 25, 2020  TV-MA         Documentary   \n",
       "7785    October 31, 2020  TV-PG        Reality show   \n",
       "7786       March 1, 2020  TV-MA         Documentary   \n",
       "\n",
       "                                            description    obj_ages  \n",
       "0     In a future where the elite inhabit an island ...      Adults  \n",
       "1     After a devastating earthquake hits Mexico Cit...      Adults  \n",
       "2     When an army recruit is found dead, his fellow...      Adults  \n",
       "3     In a postapocalyptic world, rag-doll robots hi...       Teens  \n",
       "4     A brilliant group of students become card-coun...       Teens  \n",
       "...                                                 ...         ...  \n",
       "7782  When Lebanon's Civil War deprives Zozo of his ...      Adults  \n",
       "7783  A scrappy but poor boy worms his way into a ty...       Teens  \n",
       "7784  In this documentary, South African rapper Nast...      Adults  \n",
       "7785  Dessert wizard Adriano Zumbo looks for the nex...  Grown Kids  \n",
       "7786  This documentary delves into the mystique behi...      Adults  \n",
       "\n",
       "[7777 rows x 7 columns]"
      ]
     },
     "execution_count": 14,
     "metadata": {},
     "output_type": "execute_result"
    }
   ],
   "source": [
    "#Lo que haremos en este apratado es cambiar las categorias por uel público al que van dirigido\n",
    "obj_public = {'G': 'Childs', 'TV-G': 'Childs', 'TV-Y': 'Childs','PG': 'Grown Kids', 'TV-Y7': 'Grown Kids',\n",
    "              'TV-Y7-FV': 'Grown Kids', 'TV-PG': 'Grown Kids', 'TV-14': 'Teens','PG-13': 'Teens','TV-MA': 'Adults',\n",
    "              'R': 'Adults', 'UR': 'Adults', 'NC-17': 'Adults','NR': 'Adults',}\n",
    "\n",
    "#Luego es remplazar los valores aneriores con los datos previamente asignados\n",
    "nf['obj_ages'] = nf['rating'].replace(obj_public)\n",
    "nf['obj_ages'].unique() \n",
    "nf"
   ]
  },
  {
   "cell_type": "markdown",
   "id": "3f589240",
   "metadata": {},
   "source": [
    "Ahora, convertiremos las películas y series en valores numéricos, esto pues son los datos que escogimos como objetivo."
   ]
  },
  {
   "cell_type": "code",
   "execution_count": 15,
   "id": "efb4828e",
   "metadata": {},
   "outputs": [],
   "source": [
    "#Usaremos Label Encoder, pues este tiene la particularidad de codificar las etiquetas en valor entre 0 y 1, es\n",
    "#precisamente lo que queremos lograr\n",
    "\n",
    "from sklearn.preprocessing import LabelEncoder\n",
    "\n",
    "k_type = LabelEncoder()\n",
    "k_type.fit(nf['type'])\n",
    "nf['k_type'] = k_type.transform(nf['type'])\n",
    "\n",
    "#Desechamos el valor de type actual\n",
    "nf.drop('type', axis='columns', inplace=True)"
   ]
  },
  {
   "cell_type": "markdown",
   "id": "227f2a9f",
   "metadata": {},
   "source": [
    "Repetir la operación con Países "
   ]
  },
  {
   "cell_type": "code",
   "execution_count": 16,
   "id": "b334b709",
   "metadata": {},
   "outputs": [],
   "source": [
    "k_country = LabelEncoder()\n",
    "k_country.fit(nf['country'])\n",
    "nf['k_country'] = k_country.transform(nf['country'])\n",
    "#Desechamos el valor de country actual\n",
    "nf.drop('country', axis='columns', inplace=True)"
   ]
  },
  {
   "cell_type": "markdown",
   "id": "42272e28",
   "metadata": {},
   "source": [
    "Repetirmos la operación con Rating"
   ]
  },
  {
   "cell_type": "code",
   "execution_count": 17,
   "id": "edea7869",
   "metadata": {},
   "outputs": [],
   "source": [
    "k_rating = LabelEncoder()\n",
    "k_rating.fit(nf['rating'])\n",
    "nf['k_rating'] = k_rating.transform(nf['rating'])\n",
    "#Desechamos el valor de rating actual\n",
    "nf.drop('rating', axis='columns', inplace=True)"
   ]
  },
  {
   "cell_type": "markdown",
   "id": "e9ddc5cd",
   "metadata": {},
   "source": [
    "Repetimos la operación con Categorías"
   ]
  },
  {
   "cell_type": "code",
   "execution_count": 18,
   "id": "6395fdca",
   "metadata": {},
   "outputs": [],
   "source": [
    "k_listed_in = LabelEncoder()\n",
    "k_listed_in.fit(nf['listed_in'])\n",
    "nf['k_listed_in'] = k_listed_in.transform(nf['listed_in'])\n",
    "#Desechamos el valor de listed_in actual\n",
    "nf.drop('listed_in', axis='columns', inplace=True)"
   ]
  },
  {
   "cell_type": "markdown",
   "id": "c0dabdca",
   "metadata": {},
   "source": [
    "Repetimos la operación con Obj_ages"
   ]
  },
  {
   "cell_type": "code",
   "execution_count": 19,
   "id": "b791205e",
   "metadata": {},
   "outputs": [],
   "source": [
    "k_obj_ages= LabelEncoder()\n",
    "k_obj_ages.fit(nf['obj_ages'])\n",
    "nf['k_obj_ages'] = k_obj_ages.transform(nf['obj_ages'])\n",
    "#Desechamos el valor de obj_ages actual\n",
    "nf.drop('obj_ages', axis='columns', inplace=True)"
   ]
  },
  {
   "cell_type": "markdown",
   "id": "8893d9e9",
   "metadata": {},
   "source": [
    "Pero, hay una variable a la que le debemos realizar una operación mucho más compleja, debemos de realizar un análisis de sentimientos para la descripción de cada película."
   ]
  },
  {
   "cell_type": "markdown",
   "id": "5d79b8b6",
   "metadata": {},
   "source": [
    "Creamos y asignamos la variable el valor de description y le pedimos que para cada dato le haga la conversión y \n",
    "la agregue en el dataFrame"
   ]
  },
  {
   "cell_type": "code",
   "execution_count": 20,
   "id": "dfab3558",
   "metadata": {},
   "outputs": [],
   "source": [
    "from textblob import TextBlob\n",
    "nf['polarity']=nf['description'].apply(lambda x: TextBlob(x).sentiment.polarity)\n",
    "nf['subjectivity']=nf['description'].apply(lambda x: TextBlob(x).sentiment.subjectivity)\n",
    "# Desechar el valor de description \n",
    "nf.drop('description', axis='columns', inplace=True)\n",
    "\n",
    "# Metodo alterno\n",
    "# from textblob import TextBlob\n",
    "# popularity_list=[]\n",
    "# for d in nf['description']:\n",
    "# #     print(d)\n",
    "#     analysis=TextBlob(d)\n",
    "#     analysis=analysis.sentiment\n",
    "#     print(analysis)\n",
    "#     popularity=analysis.polarity\n",
    "#     popularity_list.append(popularity)"
   ]
  },
  {
   "cell_type": "markdown",
   "id": "848712e1",
   "metadata": {},
   "source": [
    "Ahora, observemos la tabla nuevamente "
   ]
  },
  {
   "cell_type": "code",
   "execution_count": 21,
   "id": "3c1e301e",
   "metadata": {
    "scrolled": true
   },
   "outputs": [
    {
     "data": {
      "text/html": [
       "<div>\n",
       "<style scoped>\n",
       "    .dataframe tbody tr th:only-of-type {\n",
       "        vertical-align: middle;\n",
       "    }\n",
       "\n",
       "    .dataframe tbody tr th {\n",
       "        vertical-align: top;\n",
       "    }\n",
       "\n",
       "    .dataframe thead th {\n",
       "        text-align: right;\n",
       "    }\n",
       "</style>\n",
       "<table border=\"1\" class=\"dataframe\">\n",
       "  <thead>\n",
       "    <tr style=\"text-align: right;\">\n",
       "      <th></th>\n",
       "      <th>date_added</th>\n",
       "      <th>k_type</th>\n",
       "      <th>k_country</th>\n",
       "      <th>k_rating</th>\n",
       "      <th>k_listed_in</th>\n",
       "      <th>k_obj_ages</th>\n",
       "      <th>polarity</th>\n",
       "      <th>subjectivity</th>\n",
       "    </tr>\n",
       "  </thead>\n",
       "  <tbody>\n",
       "    <tr>\n",
       "      <th>0</th>\n",
       "      <td>August 14, 2020</td>\n",
       "      <td>1</td>\n",
       "      <td>39</td>\n",
       "      <td>8</td>\n",
       "      <td>3</td>\n",
       "      <td>0</td>\n",
       "      <td>0.050000</td>\n",
       "      <td>0.562500</td>\n",
       "    </tr>\n",
       "    <tr>\n",
       "      <th>1</th>\n",
       "      <td>December 23, 2016</td>\n",
       "      <td>0</td>\n",
       "      <td>308</td>\n",
       "      <td>8</td>\n",
       "      <td>3</td>\n",
       "      <td>0</td>\n",
       "      <td>-0.425000</td>\n",
       "      <td>0.600000</td>\n",
       "    </tr>\n",
       "    <tr>\n",
       "      <th>2</th>\n",
       "      <td>December 20, 2018</td>\n",
       "      <td>0</td>\n",
       "      <td>379</td>\n",
       "      <td>5</td>\n",
       "      <td>5</td>\n",
       "      <td>0</td>\n",
       "      <td>-0.475000</td>\n",
       "      <td>0.575000</td>\n",
       "    </tr>\n",
       "    <tr>\n",
       "      <th>3</th>\n",
       "      <td>November 16, 2017</td>\n",
       "      <td>0</td>\n",
       "      <td>549</td>\n",
       "      <td>4</td>\n",
       "      <td>0</td>\n",
       "      <td>3</td>\n",
       "      <td>0.100000</td>\n",
       "      <td>0.950000</td>\n",
       "    </tr>\n",
       "    <tr>\n",
       "      <th>4</th>\n",
       "      <td>January 1, 2020</td>\n",
       "      <td>0</td>\n",
       "      <td>549</td>\n",
       "      <td>4</td>\n",
       "      <td>3</td>\n",
       "      <td>3</td>\n",
       "      <td>0.900000</td>\n",
       "      <td>1.000000</td>\n",
       "    </tr>\n",
       "    <tr>\n",
       "      <th>...</th>\n",
       "      <td>...</td>\n",
       "      <td>...</td>\n",
       "      <td>...</td>\n",
       "      <td>...</td>\n",
       "      <td>...</td>\n",
       "      <td>...</td>\n",
       "      <td>...</td>\n",
       "      <td>...</td>\n",
       "    </tr>\n",
       "    <tr>\n",
       "      <th>7782</th>\n",
       "      <td>October 19, 2020</td>\n",
       "      <td>0</td>\n",
       "      <td>429</td>\n",
       "      <td>8</td>\n",
       "      <td>3</td>\n",
       "      <td>0</td>\n",
       "      <td>-0.329167</td>\n",
       "      <td>0.233333</td>\n",
       "    </tr>\n",
       "    <tr>\n",
       "      <th>7783</th>\n",
       "      <td>March 2, 2019</td>\n",
       "      <td>0</td>\n",
       "      <td>229</td>\n",
       "      <td>6</td>\n",
       "      <td>3</td>\n",
       "      <td>3</td>\n",
       "      <td>-0.325000</td>\n",
       "      <td>0.425000</td>\n",
       "    </tr>\n",
       "    <tr>\n",
       "      <th>7784</th>\n",
       "      <td>September 25, 2020</td>\n",
       "      <td>0</td>\n",
       "      <td>549</td>\n",
       "      <td>8</td>\n",
       "      <td>2</td>\n",
       "      <td>0</td>\n",
       "      <td>-0.333333</td>\n",
       "      <td>0.333333</td>\n",
       "    </tr>\n",
       "    <tr>\n",
       "      <th>7785</th>\n",
       "      <td>October 31, 2020</td>\n",
       "      <td>1</td>\n",
       "      <td>12</td>\n",
       "      <td>9</td>\n",
       "      <td>7</td>\n",
       "      <td>2</td>\n",
       "      <td>0.055556</td>\n",
       "      <td>0.333333</td>\n",
       "    </tr>\n",
       "    <tr>\n",
       "      <th>7786</th>\n",
       "      <td>March 1, 2020</td>\n",
       "      <td>0</td>\n",
       "      <td>473</td>\n",
       "      <td>8</td>\n",
       "      <td>2</td>\n",
       "      <td>0</td>\n",
       "      <td>0.120000</td>\n",
       "      <td>0.440000</td>\n",
       "    </tr>\n",
       "  </tbody>\n",
       "</table>\n",
       "<p>7777 rows × 8 columns</p>\n",
       "</div>"
      ],
      "text/plain": [
       "              date_added  k_type  k_country  k_rating  k_listed_in  \\\n",
       "0        August 14, 2020       1         39         8            3   \n",
       "1      December 23, 2016       0        308         8            3   \n",
       "2      December 20, 2018       0        379         5            5   \n",
       "3      November 16, 2017       0        549         4            0   \n",
       "4        January 1, 2020       0        549         4            3   \n",
       "...                  ...     ...        ...       ...          ...   \n",
       "7782    October 19, 2020       0        429         8            3   \n",
       "7783       March 2, 2019       0        229         6            3   \n",
       "7784  September 25, 2020       0        549         8            2   \n",
       "7785    October 31, 2020       1         12         9            7   \n",
       "7786       March 1, 2020       0        473         8            2   \n",
       "\n",
       "      k_obj_ages  polarity  subjectivity  \n",
       "0              0  0.050000      0.562500  \n",
       "1              0 -0.425000      0.600000  \n",
       "2              0 -0.475000      0.575000  \n",
       "3              3  0.100000      0.950000  \n",
       "4              3  0.900000      1.000000  \n",
       "...          ...       ...           ...  \n",
       "7782           0 -0.329167      0.233333  \n",
       "7783           3 -0.325000      0.425000  \n",
       "7784           0 -0.333333      0.333333  \n",
       "7785           2  0.055556      0.333333  \n",
       "7786           0  0.120000      0.440000  \n",
       "\n",
       "[7777 rows x 8 columns]"
      ]
     },
     "execution_count": 21,
     "metadata": {},
     "output_type": "execute_result"
    }
   ],
   "source": [
    "nf"
   ]
  },
  {
   "cell_type": "markdown",
   "id": "9b5f9a8e",
   "metadata": {},
   "source": [
    "# machine learning"
   ]
  },
  {
   "cell_type": "markdown",
   "id": "e0b8a52d",
   "metadata": {},
   "source": [
    "Ahora, realizaremos los primeros pasos de predicción de resultados, así que implementaremos el siguiente código "
   ]
  },
  {
   "cell_type": "code",
   "execution_count": 22,
   "id": "6a52dd62",
   "metadata": {},
   "outputs": [],
   "source": [
    "#En esta parte configuraremos nuestra variable de objetivo de predicción\n",
    "y = nf.k_listed_in\n",
    "#Escogemos las funciónes que permitiran el predecir la variable categorias\n",
    "netflix_features = ['k_type','k_country', 'k_rating','k_obj_ages','polarity','subjectivity']\n",
    "X = nf[netflix_features]\n",
    "nf.drop(\"k_listed_in\",axis=1,inplace=True)"
   ]
  },
  {
   "cell_type": "code",
   "execution_count": 23,
   "id": "4f528c8a",
   "metadata": {},
   "outputs": [
    {
     "data": {
      "text/plain": [
       "DecisionTreeClassifier(random_state=1)"
      ]
     },
     "execution_count": 23,
     "metadata": {},
     "output_type": "execute_result"
    }
   ],
   "source": [
    "from sklearn.tree import DecisionTreeClassifier\n",
    "# Definir el modelo, especificando el número de random_state, para obtener el mismo resultado  \n",
    "netflix_model = DecisionTreeClassifier(random_state=1)\n",
    "\n",
    "# ajuste del modelo o Fit \n",
    "netflix_model.fit(X, y)"
   ]
  },
  {
   "cell_type": "code",
   "execution_count": 24,
   "id": "bf33997f",
   "metadata": {
    "scrolled": false
   },
   "outputs": [
    {
     "name": "stdout",
     "output_type": "stream",
     "text": [
      "-------------------------------------------------------\n",
      "Hacer una predicción de prueba para las 5 primeras\n",
      "-------------------------------------------------------\n",
      "   k_type  k_country  k_rating  k_obj_ages  polarity  subjectivity\n",
      "0       1         39         8           0     0.050        0.5625\n",
      "1       0        308         8           0    -0.425        0.6000\n",
      "2       0        379         5           0    -0.475        0.5750\n",
      "3       0        549         4           3     0.100        0.9500\n",
      "4       0        549         4           3     0.900        1.0000\n",
      "Las predicciones son: \n",
      "[3 3 5 0 3]\n"
     ]
    }
   ],
   "source": [
    "print('-------------------------------------------------------')\n",
    "print(\"Hacer una predicción de prueba para las 5 primeras\")\n",
    "print('-------------------------------------------------------')\n",
    "print(X.head())\n",
    "print(\"Las predicciones son: \")\n",
    "print(netflix_model.predict(X.head()))"
   ]
  },
  {
   "cell_type": "markdown",
   "id": "808e0c16",
   "metadata": {},
   "source": [
    "Ahora agreguemos el calculo del error absoluto medio, pues sabremos que tan desfasado estaría nuestro modelo"
   ]
  },
  {
   "cell_type": "code",
   "execution_count": 25,
   "id": "bbaa8330",
   "metadata": {},
   "outputs": [
    {
     "data": {
      "text/plain": [
       "0.16137328018516137"
      ]
     },
     "execution_count": 25,
     "metadata": {},
     "output_type": "execute_result"
    }
   ],
   "source": [
    "from sklearn.metrics import mean_absolute_error\n",
    "\n",
    "predicted_listed_in = netflix_model.predict(X)\n",
    "mean_absolute_error(y, predicted_listed_in)"
   ]
  },
  {
   "cell_type": "markdown",
   "id": "3483d0b6",
   "metadata": {},
   "source": [
    "Nuestro modelo funciona exitosamente, pero ahora hagamos un paso importante, este es el uso de datos de entrenamiento, lo que haremos será dividir nuestros datos en en dos, para así entrenar a nuestro modelo"
   ]
  },
  {
   "cell_type": "code",
   "execution_count": 26,
   "id": "d7656540",
   "metadata": {
    "scrolled": true
   },
   "outputs": [
    {
     "name": "stdout",
     "output_type": "stream",
     "text": [
      "1.417737789203085\n"
     ]
    }
   ],
   "source": [
    "#Usamos la función train_test_split, ya que esta nos permite dividir los datos y usarlos como entrenamiento  \n",
    "# La división se basa en un generador de números aleatorios. Suministrar un valor numérico a\n",
    "# el argumento random_state garantiza que obtendremos la misma división cada vez que\n",
    "# ejecute este script.\n",
    "from sklearn.model_selection import train_test_split\n",
    "\n",
    "train_X, val_X, train_y, val_y = train_test_split(X, y,train_size=0.80,test_size=0.20, random_state = 1)\n",
    "# Definir el modelo\n",
    "netflix_model = DecisionTreeClassifier()\n",
    "# Ajustar modelo (Fit)\n",
    "netflix_model.fit(train_X, train_y)\n",
    "\n",
    "val_predictions = netflix_model.predict(val_X)\n",
    "print(mean_absolute_error(val_y, val_predictions))"
   ]
  },
  {
   "cell_type": "markdown",
   "id": "f21d9a85",
   "metadata": {},
   "source": [
    "Probando el funcionamiento de la predicción con Decision Tree Classifier, crearemos una tabla para comparar los valores de la predicción y el valor real"
   ]
  },
  {
   "cell_type": "code",
   "execution_count": 27,
   "id": "bd5f79e3",
   "metadata": {},
   "outputs": [
    {
     "data": {
      "text/html": [
       "<div>\n",
       "<style scoped>\n",
       "    .dataframe tbody tr th:only-of-type {\n",
       "        vertical-align: middle;\n",
       "    }\n",
       "\n",
       "    .dataframe tbody tr th {\n",
       "        vertical-align: top;\n",
       "    }\n",
       "\n",
       "    .dataframe thead th {\n",
       "        text-align: right;\n",
       "    }\n",
       "</style>\n",
       "<table border=\"1\" class=\"dataframe\">\n",
       "  <thead>\n",
       "    <tr style=\"text-align: right;\">\n",
       "      <th></th>\n",
       "      <th>Predecido Arbol</th>\n",
       "      <th>k_listed_in</th>\n",
       "    </tr>\n",
       "  </thead>\n",
       "  <tbody>\n",
       "    <tr>\n",
       "      <th>0</th>\n",
       "      <td>3</td>\n",
       "      <td>3</td>\n",
       "    </tr>\n",
       "    <tr>\n",
       "      <th>1</th>\n",
       "      <td>3</td>\n",
       "      <td>3</td>\n",
       "    </tr>\n",
       "    <tr>\n",
       "      <th>2</th>\n",
       "      <td>5</td>\n",
       "      <td>5</td>\n",
       "    </tr>\n",
       "    <tr>\n",
       "      <th>3</th>\n",
       "      <td>0</td>\n",
       "      <td>0</td>\n",
       "    </tr>\n",
       "    <tr>\n",
       "      <th>4</th>\n",
       "      <td>3</td>\n",
       "      <td>3</td>\n",
       "    </tr>\n",
       "    <tr>\n",
       "      <th>5</th>\n",
       "      <td>3</td>\n",
       "      <td>3</td>\n",
       "    </tr>\n",
       "    <tr>\n",
       "      <th>6</th>\n",
       "      <td>5</td>\n",
       "      <td>5</td>\n",
       "    </tr>\n",
       "    <tr>\n",
       "      <th>7</th>\n",
       "      <td>1</td>\n",
       "      <td>3</td>\n",
       "    </tr>\n",
       "    <tr>\n",
       "      <th>8</th>\n",
       "      <td>5</td>\n",
       "      <td>5</td>\n",
       "    </tr>\n",
       "    <tr>\n",
       "      <th>9</th>\n",
       "      <td>1</td>\n",
       "      <td>5</td>\n",
       "    </tr>\n",
       "    <tr>\n",
       "      <th>10</th>\n",
       "      <td>2</td>\n",
       "      <td>3</td>\n",
       "    </tr>\n",
       "    <tr>\n",
       "      <th>11</th>\n",
       "      <td>3</td>\n",
       "      <td>3</td>\n",
       "    </tr>\n",
       "    <tr>\n",
       "      <th>12</th>\n",
       "      <td>2</td>\n",
       "      <td>2</td>\n",
       "    </tr>\n",
       "    <tr>\n",
       "      <th>13</th>\n",
       "      <td>2</td>\n",
       "      <td>2</td>\n",
       "    </tr>\n",
       "    <tr>\n",
       "      <th>14</th>\n",
       "      <td>9</td>\n",
       "      <td>9</td>\n",
       "    </tr>\n",
       "    <tr>\n",
       "      <th>15</th>\n",
       "      <td>3</td>\n",
       "      <td>3</td>\n",
       "    </tr>\n",
       "    <tr>\n",
       "      <th>16</th>\n",
       "      <td>3</td>\n",
       "      <td>3</td>\n",
       "    </tr>\n",
       "    <tr>\n",
       "      <th>17</th>\n",
       "      <td>3</td>\n",
       "      <td>3</td>\n",
       "    </tr>\n",
       "    <tr>\n",
       "      <th>18</th>\n",
       "      <td>1</td>\n",
       "      <td>1</td>\n",
       "    </tr>\n",
       "    <tr>\n",
       "      <th>19</th>\n",
       "      <td>2</td>\n",
       "      <td>2</td>\n",
       "    </tr>\n",
       "  </tbody>\n",
       "</table>\n",
       "</div>"
      ],
      "text/plain": [
       "    Predecido Arbol  k_listed_in\n",
       "0                 3            3\n",
       "1                 3            3\n",
       "2                 5            5\n",
       "3                 0            0\n",
       "4                 3            3\n",
       "5                 3            3\n",
       "6                 5            5\n",
       "7                 1            3\n",
       "8                 5            5\n",
       "9                 1            5\n",
       "10                2            3\n",
       "11                3            3\n",
       "12                2            2\n",
       "13                2            2\n",
       "14                9            9\n",
       "15                3            3\n",
       "16                3            3\n",
       "17                3            3\n",
       "18                1            1\n",
       "19                2            2"
      ]
     },
     "execution_count": 27,
     "metadata": {},
     "output_type": "execute_result"
    }
   ],
   "source": [
    "d_pred=netflix_model.predict(X.head(20))\n",
    "column_names = [\"Predecido Arbol\"]\n",
    "data_df = pd.DataFrame(d_pred,columns=column_names)\n",
    "data_real=y.head(20)\n",
    "d = pd.concat([data_df, data_real], axis=1)\n",
    "d"
   ]
  },
  {
   "cell_type": "markdown",
   "id": "1576c1b5",
   "metadata": {},
   "source": [
    "Ahora implementemos la función random-forest, esa nos permite el uso de mas arboles, haciendo una predicción de las predicciones promedios de los arboles\n"
   ]
  },
  {
   "cell_type": "code",
   "execution_count": 28,
   "id": "3e86b8ae",
   "metadata": {},
   "outputs": [
    {
     "name": "stdout",
     "output_type": "stream",
     "text": [
      "1.3721079691516709\n"
     ]
    }
   ],
   "source": [
    "from sklearn.ensemble import RandomForestClassifier\n",
    "from sklearn.metrics import mean_absolute_error\n",
    "\n",
    "forest_model = RandomForestClassifier(random_state=1)\n",
    "forest_model.fit(train_X, train_y)\n",
    "nf_preds = forest_model.predict(val_X)\n",
    "print(mean_absolute_error(val_y, nf_preds));\n"
   ]
  },
  {
   "cell_type": "markdown",
   "id": "b94da12f",
   "metadata": {},
   "source": [
    "Probando el funcionamiento de la predicción con Random Forest"
   ]
  },
  {
   "cell_type": "code",
   "execution_count": 29,
   "id": "8736e5af",
   "metadata": {},
   "outputs": [
    {
     "data": {
      "text/html": [
       "<div>\n",
       "<style scoped>\n",
       "    .dataframe tbody tr th:only-of-type {\n",
       "        vertical-align: middle;\n",
       "    }\n",
       "\n",
       "    .dataframe tbody tr th {\n",
       "        vertical-align: top;\n",
       "    }\n",
       "\n",
       "    .dataframe thead th {\n",
       "        text-align: right;\n",
       "    }\n",
       "</style>\n",
       "<table border=\"1\" class=\"dataframe\">\n",
       "  <thead>\n",
       "    <tr style=\"text-align: right;\">\n",
       "      <th></th>\n",
       "      <th>Predecido Forest</th>\n",
       "      <th>k_listed_in</th>\n",
       "    </tr>\n",
       "  </thead>\n",
       "  <tbody>\n",
       "    <tr>\n",
       "      <th>0</th>\n",
       "      <td>3</td>\n",
       "      <td>3</td>\n",
       "    </tr>\n",
       "    <tr>\n",
       "      <th>1</th>\n",
       "      <td>3</td>\n",
       "      <td>3</td>\n",
       "    </tr>\n",
       "    <tr>\n",
       "      <th>2</th>\n",
       "      <td>5</td>\n",
       "      <td>5</td>\n",
       "    </tr>\n",
       "    <tr>\n",
       "      <th>3</th>\n",
       "      <td>0</td>\n",
       "      <td>0</td>\n",
       "    </tr>\n",
       "    <tr>\n",
       "      <th>4</th>\n",
       "      <td>3</td>\n",
       "      <td>3</td>\n",
       "    </tr>\n",
       "    <tr>\n",
       "      <th>5</th>\n",
       "      <td>3</td>\n",
       "      <td>3</td>\n",
       "    </tr>\n",
       "    <tr>\n",
       "      <th>6</th>\n",
       "      <td>5</td>\n",
       "      <td>5</td>\n",
       "    </tr>\n",
       "    <tr>\n",
       "      <th>7</th>\n",
       "      <td>1</td>\n",
       "      <td>3</td>\n",
       "    </tr>\n",
       "    <tr>\n",
       "      <th>8</th>\n",
       "      <td>5</td>\n",
       "      <td>5</td>\n",
       "    </tr>\n",
       "    <tr>\n",
       "      <th>9</th>\n",
       "      <td>1</td>\n",
       "      <td>5</td>\n",
       "    </tr>\n",
       "    <tr>\n",
       "      <th>10</th>\n",
       "      <td>2</td>\n",
       "      <td>3</td>\n",
       "    </tr>\n",
       "    <tr>\n",
       "      <th>11</th>\n",
       "      <td>3</td>\n",
       "      <td>3</td>\n",
       "    </tr>\n",
       "    <tr>\n",
       "      <th>12</th>\n",
       "      <td>2</td>\n",
       "      <td>2</td>\n",
       "    </tr>\n",
       "    <tr>\n",
       "      <th>13</th>\n",
       "      <td>2</td>\n",
       "      <td>2</td>\n",
       "    </tr>\n",
       "    <tr>\n",
       "      <th>14</th>\n",
       "      <td>9</td>\n",
       "      <td>9</td>\n",
       "    </tr>\n",
       "    <tr>\n",
       "      <th>15</th>\n",
       "      <td>3</td>\n",
       "      <td>3</td>\n",
       "    </tr>\n",
       "    <tr>\n",
       "      <th>16</th>\n",
       "      <td>3</td>\n",
       "      <td>3</td>\n",
       "    </tr>\n",
       "    <tr>\n",
       "      <th>17</th>\n",
       "      <td>3</td>\n",
       "      <td>3</td>\n",
       "    </tr>\n",
       "    <tr>\n",
       "      <th>18</th>\n",
       "      <td>1</td>\n",
       "      <td>1</td>\n",
       "    </tr>\n",
       "    <tr>\n",
       "      <th>19</th>\n",
       "      <td>2</td>\n",
       "      <td>2</td>\n",
       "    </tr>\n",
       "  </tbody>\n",
       "</table>\n",
       "</div>"
      ],
      "text/plain": [
       "    Predecido Forest  k_listed_in\n",
       "0                  3            3\n",
       "1                  3            3\n",
       "2                  5            5\n",
       "3                  0            0\n",
       "4                  3            3\n",
       "5                  3            3\n",
       "6                  5            5\n",
       "7                  1            3\n",
       "8                  5            5\n",
       "9                  1            5\n",
       "10                 2            3\n",
       "11                 3            3\n",
       "12                 2            2\n",
       "13                 2            2\n",
       "14                 9            9\n",
       "15                 3            3\n",
       "16                 3            3\n",
       "17                 3            3\n",
       "18                 1            1\n",
       "19                 2            2"
      ]
     },
     "execution_count": 29,
     "metadata": {},
     "output_type": "execute_result"
    }
   ],
   "source": [
    "d_pred_f=forest_model.predict(X.head(20))\n",
    "column_names = [\"Predecido Forest\"]\n",
    "data_df = pd.DataFrame(d_pred_f,columns=column_names)\n",
    "data_real=y.head(20)\n",
    "d = pd.concat([data_df, data_real], axis=1)\n",
    "d"
   ]
  },
  {
   "cell_type": "markdown",
   "id": "016119ce",
   "metadata": {},
   "source": [
    "Ahora veamos que tan preciso fue nuestro modelo, entendido como el porcentaje de valores clasificados correctamente con respecto al total de elementos."
   ]
  },
  {
   "cell_type": "markdown",
   "id": "820b74cd",
   "metadata": {},
   "source": [
    "Para el modelo de arbol"
   ]
  },
  {
   "cell_type": "code",
   "execution_count": 30,
   "id": "e3c7ec7e",
   "metadata": {},
   "outputs": [
    {
     "name": "stdout",
     "output_type": "stream",
     "text": [
      "82.25536839398225 %\n"
     ]
    }
   ],
   "source": [
    "print(netflix_model.score(X,y)*100,'%')"
   ]
  },
  {
   "cell_type": "markdown",
   "id": "2f7de443",
   "metadata": {},
   "source": [
    "Para el modelo de bosque"
   ]
  },
  {
   "cell_type": "code",
   "execution_count": 31,
   "id": "e3ed8327",
   "metadata": {
    "scrolled": false
   },
   "outputs": [
    {
     "name": "stdout",
     "output_type": "stream",
     "text": [
      "82.61540439758261 %\n"
     ]
    }
   ],
   "source": [
    "print(forest_model.score(X,y)*100,'%')"
   ]
  },
  {
   "cell_type": "markdown",
   "id": "f2633a95",
   "metadata": {},
   "source": [
    "Cuando usamos un metodo de clasificación sea como en este caso RandomForestClassifier, **con base a lo anterior el (Autor en Towards Data Science, 2021) entendemos que el método calcula la puntuación de precisión de forma predeterminada (la precisión es #correct_preds / #all_preds)**. Esto lo hace de forma predeterminada, el método de puntuación no necesita las predicciones reales, de otra forma podemos calcularlo con el metodo de abajo."
   ]
  },
  {
   "cell_type": "markdown",
   "id": "3d0a8f90",
   "metadata": {},
   "source": [
    "Esto seria una predicción mas cercana del valor real que predijimos, tomando en cuenta que se realizo con los datos de entrenamiento"
   ]
  },
  {
   "cell_type": "code",
   "execution_count": 32,
   "id": "103828e9",
   "metadata": {},
   "outputs": [
    {
     "name": "stdout",
     "output_type": "stream",
     "text": [
      "--------------------------------------------\n",
      "Puntuación de precisión: 93.10400257193378 %\n",
      "--------------------------------------------\n"
     ]
    }
   ],
   "source": [
    "from sklearn.metrics import accuracy_score\n",
    "# forest_model = RandomForestClassifier()\n",
    "# forest_model.fit(train_X,train_y)\n",
    "train_pred = forest_model.predict(train_X)\n",
    "train_pred\n",
    "                  \n",
    "Training_score = accuracy_score(train_pred,train_y) \n",
    "print('--------------------------------------------')\n",
    "print(\"Puntuación de precisión:\",Training_score*100,'%')\n",
    "print('--------------------------------------------')"
   ]
  }
 ],
 "metadata": {
  "kernelspec": {
   "display_name": "Python 3",
   "language": "python",
   "name": "python3"
  },
  "language_info": {
   "codemirror_mode": {
    "name": "ipython",
    "version": 3
   },
   "file_extension": ".py",
   "mimetype": "text/x-python",
   "name": "python",
   "nbconvert_exporter": "python",
   "pygments_lexer": "ipython3",
   "version": "3.8.8"
  }
 },
 "nbformat": 4,
 "nbformat_minor": 5
}
